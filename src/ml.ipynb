{
 "cells": [
  {
   "cell_type": "code",
   "execution_count": null,
   "metadata": {},
   "outputs": [],
   "source": [
    "# Imports\n",
    "\n",
    "import car\n",
    "from auto.capabilities import acquire, release, list_caps\n",
    "from car.motors import set_throttle, set_steering\n",
    "from auto import console\n",
    "import time\n",
    "\n",
    "\n",
    "import numpy as np\n",
    "import cv2\n",
    "import os"
   ]
  },
  {
   "cell_type": "code",
   "execution_count": null,
   "metadata": {},
   "outputs": [],
   "source": [
    "# Computer Vision constants\n",
    "cv2.setNumThreads(0)\n",
    "\n",
    "blue = np.array([112,121, 189])\n",
    "\n",
    "diff = 30\n",
    "lower = blue - diff\n",
    "upper = blue + diff\n",
    "lower = np.clip(lower, 0, 255)\n",
    "upper = np.clip(upper, 0, 255)\n",
    "\n",
    "crop_height = 70\n",
    "crop_left = 60\n",
    "crop_right = 60"
   ]
  },
  {
   "cell_type": "code",
   "execution_count": null,
   "metadata": {},
   "outputs": [],
   "source": [
    "# Functions\n",
    "\n",
    "def crop(img):\n",
    "    \"\"\"\n",
    "    Camera captures 240 pixels of height and 320 of width\n",
    "    Shape is (240, 320, 3)\n",
    "    \"\"\"\n",
    "    return img[-crop_height:, crop_left:-crop_right]\n",
    "\n",
    "\n",
    "def scale(img, scalePercent):\n",
    "    # Calculate the new dimensions\n",
    "    width = int(img.shape[1] * scalePercent)\n",
    "    height = int(img.shape[0] * scalePercent)\n",
    "    newSize = (width, height)\n",
    "\n",
    "    # Resize the image:\n",
    "    img = cv2.resize(img, newSize, None, None, None, cv2.INTER_AREA)\n",
    "    return img\n",
    "\n",
    "\n",
    "def percentBlue(img, scalePercent=1):\n",
    "    # Convert the image to HSV:\n",
    "    #hsvImage = cv2.cvtColor(img, cv2.COLOR_BGR2HSV)\n",
    "\n",
    "    rgbImage = img\n",
    "    #cv2.cvtColor(img, cv2.COLOR_BGR2RGB)\n",
    "    # Create the HSV mask\n",
    "    #hsvMask = cv2.inRange(hsvImage, lower, upper)\n",
    "    \n",
    "    rgbMask = cv2.inRange(rgbImage,lower, upper)\n",
    "    # AND mask & input image:\n",
    "    # rgbOutput = cv2.bitwise_and(img, img, mask=rgbMask)\n",
    "    \n",
    "    # You can use the mask to count the number of white pixels.\n",
    "    # Remember that the white pixels in the mask are those that\n",
    "    # fall in your defined range, that is, every white pixel corresponds\n",
    "    # to a blue pixel. Divide by the image size and you got the\n",
    "    # percentage of blue pixels in the original image:\n",
    "    ratio_blue = cv2.countNonZero(rgbMask)/(img.size/3)\n",
    "\n",
    "    # This is the color percent calculation, considering the resize I did earlier.\n",
    "    colorPercent = (ratio_blue * 100) / scalePercent\n",
    "\n",
    "    return colorPercent"
   ]
  },
  {
   "cell_type": "code",
   "execution_count": null,
   "metadata": {},
   "outputs": [],
   "source": [
    "# Racing constants\n",
    "\n",
    "turns = []\n",
    "numLaps = 10\n",
    "maxThrottle = 10"
   ]
  },
  {
   "cell_type": "code",
   "execution_count": null,
   "metadata": {},
   "outputs": [],
   "source": []
  },
  {
   "cell_type": "code",
   "execution_count": null,
   "metadata": {},
   "outputs": [],
   "source": [
    "# Custom logic\n",
    "\n",
    "gyroscope = acquire('Gyroscope_accum')\n",
    "\n",
    "onStraight = True\n",
    "currentOffset = 0 # Steer offset from straight\n",
    "turnNumber = 0 # Index into turns array\n",
    "lap = 0\n",
    "\n",
    "blueThreshold = 1.0 # As a percent\n",
    "\n",
    "def start():\n",
    "    return 0, max_throttle\n",
    "\n",
    "\n",
    "def loop():\n",
    "    d_steer = 0\n",
    "    steer_direction = 1\n",
    "    if onStraight:\n",
    "        z = gyroscope.read()[2]\n",
    "        currentOffset = -z\n",
    "        d_steer = currentOffset\n",
    "        \n",
    "#         frame = car.capture()\n",
    "#         img = crop(frame)\n",
    "#         percent = percentBlue(img)\n",
    "#         if percent > blueThreshold:\n",
    "#             d_steer += 10\n",
    "#             if currentOffset < 0.0:\n",
    "#                 steer_direction = 1\n",
    "#             else:\n",
    "#                 steer_direction = -1\n",
    "    else:\n",
    "        pass\n",
    "    \n",
    "    return d_steer * steer_direction, maxThrottle"
   ]
  },
  {
   "cell_type": "code",
   "execution_count": null,
   "metadata": {},
   "outputs": [],
   "source": [
    "# steer, throttle = start()\n",
    "\n",
    "# while lap < 10:\n",
    "#     if turnNumber != 0 and turnNumber % len(turns) == 0:\n",
    "#         lap += 1\n",
    "\n",
    "#     d_steer, d_throttle = loop()\n",
    "#     steer += d_steer\n",
    "#     throttle += d_throttle\n",
    "#     set_steering(steer)\n",
    "#     set_throttle(throttle)\n",
    "#     time.sleep(0.1) # Each command runs for 1 second\n",
    "    \n",
    "# release('Gyroscope_accum')\n",
    "\n",
    "while lap < 4:\n",
    "    d_steer, maxThrottle = loop()\n",
    "    throttle = 50\n",
    "    set_throttle(throttle)\n",
    "    set_steering(d_steer)\n",
    "    time.sleep(0.5)\n",
    "    lap += 1\n",
    "    \n",
    "release('Gyroscope_accum')\n",
    "    "
   ]
  },
  {
   "cell_type": "code",
   "execution_count": 8,
   "metadata": {},
   "outputs": [
    {
     "name": "stdout",
     "output_type": "stream",
     "text": [
      "Plotting 1 frame...\n"
     ]
    },
    {
     "data": {
      "image/png": "[encoded data removed]",
      "text/plain": [
       "<PIL.Image.Image image mode=RGB size=200x70 at 0x6566B3F0>"
      ]
     },
     "execution_count": 8,
     "metadata": {},
     "output_type": "execute_result"
    }
   ],
   "source": [
    "car.plot(img)"
   ]
  },
  {
   "cell_type": "code",
   "execution_count": null,
   "metadata": {},
   "outputs": [],
   "source": []
  }
 ],
 "metadata": {
  "kernelspec": {
   "display_name": "Python 3",
   "language": "python",
   "name": "python3"
  },
  "language_info": {
   "codemirror_mode": {
    "name": "ipython",
    "version": 3
   },
   "file_extension": ".py",
   "mimetype": "text/x-python",
   "name": "python",
   "nbconvert_exporter": "python",
   "pygments_lexer": "ipython3",
   "version": "3.7.3"
  }
 },
 "nbformat": 4,
 "nbformat_minor": 2
}
