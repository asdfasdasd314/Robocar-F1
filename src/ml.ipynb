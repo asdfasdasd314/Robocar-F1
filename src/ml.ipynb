{
 "cells": [
  {
   "cell_type": "code",
   "execution_count": 1,
   "metadata": {},
   "outputs": [
    {
     "name": "stdout",
     "output_type": "stream",
     "text": [
      "Instantiated a global camera object!\n",
      "Captured 1 frame.\n"
     ]
    },
    {
     "ename": "TypeError",
     "evalue": "write() argument must be str, not numpy.ndarray",
     "output_type": "error",
     "traceback": [
      "\u001b[0;31m---------------------------------------------------------------------------\u001b[0m",
      "\u001b[0;31mTypeError\u001b[0m                                 Traceback (most recent call last)",
      "\u001b[0;32m<ipython-input-1-9854f4efdb29>\u001b[0m in \u001b[0;36m<module>\u001b[0;34m\u001b[0m\n\u001b[1;32m     63\u001b[0m     \u001b[0mframe\u001b[0m \u001b[0;34m=\u001b[0m \u001b[0mcar\u001b[0m\u001b[0;34m.\u001b[0m\u001b[0mcapture\u001b[0m\u001b[0;34m(\u001b[0m\u001b[0;34m)\u001b[0m\u001b[0;34m\u001b[0m\u001b[0;34m\u001b[0m\u001b[0m\n\u001b[1;32m     64\u001b[0m     \u001b[0;32mwith\u001b[0m \u001b[0mopen\u001b[0m\u001b[0;34m(\u001b[0m\u001b[0;34mf\"../ML Data/{i}.txt\"\u001b[0m\u001b[0;34m,\u001b[0m \u001b[0;34m\"w+\"\u001b[0m\u001b[0;34m)\u001b[0m \u001b[0;32mas\u001b[0m \u001b[0mf\u001b[0m\u001b[0;34m:\u001b[0m\u001b[0;34m\u001b[0m\u001b[0;34m\u001b[0m\u001b[0m\n\u001b[0;32m---> 65\u001b[0;31m         \u001b[0mf\u001b[0m\u001b[0;34m.\u001b[0m\u001b[0mwrite\u001b[0m\u001b[0;34m(\u001b[0m\u001b[0mframe\u001b[0m\u001b[0;34m)\u001b[0m\u001b[0;34m\u001b[0m\u001b[0;34m\u001b[0m\u001b[0m\n\u001b[0m\u001b[1;32m     66\u001b[0m \u001b[0;34m\u001b[0m\u001b[0m\n\u001b[1;32m     67\u001b[0m \u001b[0mconsole\u001b[0m\u001b[0;34m.\u001b[0m\u001b[0mprint\u001b[0m\u001b[0;34m(\u001b[0m\u001b[0mstart\u001b[0m \u001b[0;34m-\u001b[0m \u001b[0mtime\u001b[0m\u001b[0;34m.\u001b[0m\u001b[0mtime\u001b[0m\u001b[0;34m(\u001b[0m\u001b[0;34m)\u001b[0m\u001b[0;34m)\u001b[0m\u001b[0;34m\u001b[0m\u001b[0;34m\u001b[0m\u001b[0m\n",
      "\u001b[0;31mTypeError\u001b[0m: write() argument must be str, not numpy.ndarray"
     ]
    }
   ],
   "source": [
    "import car\n",
    "from auto import console\n",
    "import time\n",
    "\n",
    "import numpy as np\n",
    "import cv2\n",
    "import os\n",
    "\n",
    "\n",
    "cv2.setNumThreads(0)\n",
    "\n",
    "def to_gray(img):\n",
    "    \"\"\"\n",
    "    Converts the image `img` from an RGB image to a greyscale image.\n",
    "    \"\"\"\n",
    "    gray_img = cv2.cvtColor(img, cv2.COLOR_RGB2GRAY)\n",
    "    return gray_img\n",
    "\n",
    "\n",
    "def resize(img):\n",
    "    \"\"\"\n",
    "    Our training set images were captured at a resolution of 160x128, therefore it\n",
    "    is important that we scale our images here to that size before doing any of the\n",
    "    other preprocessing. That is what this function does: resize the image `img` to\n",
    "    be 160x128 pixels.\n",
    "    \"\"\"\n",
    "    width, height = 160, 128\n",
    "    small_img = cv2.resize(img, (width, height))\n",
    "    return small_img\n",
    "\n",
    "\n",
    "def crop(img):\n",
    "    \"\"\"\n",
    "    Camera captures 240 pixels of height and 320 of width\n",
    "    Shape is (240, 320, 3)\n",
    "    \"\"\"\n",
    "    height = 120\n",
    "    return img[-height:, :]\n",
    "\n",
    "\n",
    "def edges(img):\n",
    "    \"\"\"\n",
    "    This function takes a greyscale image `img` and runs\n",
    "    the Canny edge detection algorithm on it. The returned\n",
    "    image will be black and white, where the white parts are\n",
    "    the edges of the original image `img`.\n",
    "    \"\"\"\n",
    "    canny_thresh_1, canny_thresh_2 = 100, 200\n",
    "    return cv2.Canny(img, canny_thresh_1, canny_thresh_2)\n",
    "\n",
    "\n",
    "def preprocess(img):\n",
    "    \"\"\"\n",
    "    This function runs all the functions above, and in the correct order!\n",
    "    \"\"\"\n",
    "    img_edge = edges(resize(to_gray(img)))\n",
    "    img_feats = crop(np.expand_dims(img_edge, 2))\n",
    "    img_feats = np.array(img_feats, dtype=np.float32) / 255.0\n",
    "    return img_edge, img_feats\n",
    "\n",
    "start = time.time()\n",
    "for i in range(60):\n",
    "    frame = car.capture()\n",
    "    np.save(f\"../ML Data/{i}.npy\", frame)f:\n",
    "        f.write(frame)\n",
    "    \n",
    "console.print(start - time.time())"
   ]
  },
  {
   "cell_type": "code",
   "execution_count": null,
   "metadata": {},
   "outputs": [],
   "source": []
  }
 ],
 "metadata": {
  "kernelspec": {
   "display_name": "Python 3",
   "language": "python",
   "name": "python3"
  },
  "language_info": {
   "codemirror_mode": {
    "name": "ipython",
    "version": 3
   },
   "file_extension": ".py",
   "mimetype": "text/x-python",
   "name": "python",
   "nbconvert_exporter": "python",
   "pygments_lexer": "ipython3",
   "version": "3.7.3"
  }
 },
 "nbformat": 4,
 "nbformat_minor": 2
}
